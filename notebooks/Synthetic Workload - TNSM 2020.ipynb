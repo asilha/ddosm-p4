{
 "cells": [
  {
   "cell_type": "markdown",
   "metadata": {},
   "source": [
    "# Synthetic Workload"
   ]
  },
  {
   "cell_type": "markdown",
   "metadata": {},
   "source": [
    "## Combining legitimate traces"
   ]
  },
  {
   "cell_type": "markdown",
   "metadata": {},
   "source": [
    "    cd ~/p4sec/ddosm-p4/datasets/caida/2016\\ anonymized\n",
    "\n",
    "    mergecap -a -w legitimate.pcap \\\n",
    "    equinix-chicago.dirA.20160406-130300.UTC.anon.pcap.gz \\\n",
    "    equinix-chicago.dirA.20160406-130400.UTC.anon.pcap.gz \\\n",
    "    equinix-chicago.dirA.20160406-130500.UTC.anon.pcap.gz \\\n",
    "    equinix-chicago.dirA.20160406-130600.UTC.anon.pcap.gz \\\n",
    "    equinix-chicago.dirA.20160406-130700.UTC.anon.pcap.gz \\\n",
    "    equinix-chicago.dirA.20160406-130800.UTC.anon.pcap.gz \\\n",
    "    equinix-chicago.dirA.20160406-130900.UTC.anon.pcap.gz \n",
    "\n",
    "    ilha@khronos-server:~/p4sec/ddosm-p4/datasets/caida/2016 anonymized$ capinfos -m legitimate.pcap\n",
    "\n",
    "    File name:           legitimate.pcap\n",
    "    File type:           Wireshark/... - pcapng\n",
    "    File encapsulation:  Raw IP\n",
    "    File timestamp precision:  microseconds (6)\n",
    "    Packet size limit:   file hdr: (not set)\n",
    "    Packet size limit:   inferred: 20 bytes - 64 bytes (range)\n",
    "    Number of packets:   221 M\n",
    "    File size:           17 GB\n",
    "    Data size:           157 GB\n",
    "    Capture duration:    419,428234 seconds\n",
    "    First packet time:   2016-04-06 10:03:00,000000\n",
    "    Last packet time:    2016-04-06 10:09:59,428234\n",
    "    Data byte rate:      375 MBps\n",
    "    Data bit rate:       3.004 Mbps\n",
    "    Average packet size: 711,86 bytes\n",
    "    Average packet rate: 527 kpackets/s\n",
    "    SHA256:              7e1b5490d52de6ff1e838c3dc095313b26c8da771ef34360d97cd9ace8c8763b\n",
    "    RIPEMD160:           84325aafdce20dbc46d8e082ff29990343b06d84\n",
    "    SHA1:                b36a48c1116a9aeb7ea0cee8eff0c59f9b853a07\n",
    "    Strict time order:   True\n",
    "    Capture oper-sys:    Linux 4.15.0-66-generic\n",
    "    Capture application: mergecap\n",
    "    Number of interfaces in file: 1\n",
    "    Interface #0 info:\n",
    "                     Encapsulation = Raw IP (7 - rawip)\n",
    "                     Capture length = 65536\n",
    "                     Time precision = microseconds (6)\n",
    "                     Time ticks per second = 1000000\n",
    "                     Number of stat entries = 0\n",
    "                     Number of packets = 221285596\n"
   ]
  },
  {
   "cell_type": "markdown",
   "metadata": {},
   "source": [
    "## Combining attack traces"
   ]
  },
  {
   "cell_type": "markdown",
   "metadata": {},
   "source": [
    "    cd ~/p4sec/ddosm-p4/datasets/caida/2007\\ ddostrace\n",
    "\n",
    "    mergecap -w ddostrace.20070804_141436.pcap \\\n",
    "    from-victim/ddostrace.from-victim.20070804_141436.pcap.gz \\\n",
    "    to-victim/ddostrace.to-victim.20070804_141436.pcap.gz \n",
    "    \n",
    "    ilha@khronos-server:~/p4sec/ddosm-p4/datasets/caida/2007 ddostrace$ capinfos ddostrace.20070804_141436.pcap\n",
    "    File name:           ddostrace.20070804_141436.pcap\n",
    "    File type:           Wireshark/... - pcapng\n",
    "    File encapsulation:  Raw IP\n",
    "    File timestamp precision:  microseconds (6)\n",
    "    Packet size limit:   file hdr: (not set)\n",
    "    Packet size limit:   inferred: 20 bytes - 52 bytes (range)\n",
    "    Number of packets:   26 M\n",
    "    File size:           1.650 MB\n",
    "    Data size:           1.622 MB\n",
    "    Capture duration:    299,999612 seconds\n",
    "    First packet time:   2007-08-04 18:14:36,485318\n",
    "    Last packet time:    2007-08-04 18:19:36,484930\n",
    "    Data byte rate:      5.407 kBps\n",
    "    Data bit rate:       43 Mbps\n",
    "    Average packet size: 60,63 bytes\n",
    "    Average packet rate: 89 kpackets/s\n",
    "    SHA256:              1859afd9bd3f75a0917aed8dcaa284066d3b433a7b99eafe73e2de7592c6ab44\n",
    "    RIPEMD160:           c3caa94c9ef80d8e3954436ff1f20672c17f718b\n",
    "    SHA1:                25d672990405805ab50d3f68e73ae6a8372dce5d\n",
    "    Strict time order:   True\n",
    "    Capture oper-sys:    Linux 4.15.0-66-generic\n",
    "    Capture application: mergecap\n",
    "    Number of interfaces in file: 1\n",
    "    Interface #0 info:\n",
    "                         Encapsulation = Raw IP (7 - rawip)\n",
    "                         Capture length = 65536\n",
    "                         Time precision = microseconds (6)\n",
    "                         Time ticks per second = 1000000\n",
    "                         Number of stat entries = 0\n",
    "                         Number of packets = 26760675\n",
    "    \n"
   ]
  },
  {
   "cell_type": "markdown",
   "metadata": {},
   "source": [
    "## Calculating trafg parameters"
   ]
  },
  {
   "cell_type": "code",
   "execution_count": 7,
   "metadata": {},
   "outputs": [
    {
     "name": "stdout",
     "output_type": "stream",
     "text": [
      "Detection phase packets: 131,072,000\n",
      "Trafg packets: 131,072,000\n",
      "Total packets: 196,608,000\n",
      "\n",
      "Needed legitimate packets: 183,500,800\n",
      "Needed attack packets: 13,107,200\n",
      "\n",
      "Command line: ~/p4sec/ddosd-cpp/bin/trafg -n 131072000 -a 0.2 \\\n",
      " ~/p4sec/ddosm-p4/datasets/caida/2016\\ anonymized/legitimate.pcap \\\n",
      " ~/p4sec/ddosm-p4/datasets/caida/2007\\ ddostrace/ddostrace.20070804_141436.pcap \\\n",
      " ~/p4sec/ddosm-p4/datasets/synthetic-ilha-ddos20-full/ddos20-full.pcap\n"
     ]
    }
   ],
   "source": [
    "import math\n",
    "\n",
    "detection_phase_packets = 2**17 * 1000 # 131.072.000 packets.        \n",
    "\n",
    "trafg_packets = detection_phase_packets\n",
    "total_packets = int(1.5 * trafg_packets)\n",
    "attack_proportion = 0.2\n",
    "\n",
    "pcap_legitimate = '~/p4sec/ddosm-p4/datasets/caida/2016\\ anonymized/legitimate.pcap'\n",
    "pcap_attack = '~/p4sec/ddosm-p4/datasets/caida/2007\\ ddostrace/ddostrace.20070804_141436.pcap'\n",
    "pcap_out = '~/p4sec/ddosm-p4/datasets/synthetic-ilha-ddos20-full/ddos20-full.pcap'\n",
    "\n",
    "needed_attack_packets = math.ceil(0.5 * detection_phase_packets * attack_proportion)\n",
    "needed_legitimate_packets = math.ceil(1.5 * trafg_packets - needed_attack_packets)\n",
    "\n",
    "print(\"Detection phase packets:\", f\"{detection_phase_packets:,}\")\n",
    "print(\"Trafg packets:\", f\"{trafg_packets:,}\")\n",
    "print(\"Total packets:\", f\"{total_packets:,}\")\n",
    "print(\"\")\n",
    "print(\"Needed legitimate packets:\", f\"{needed_legitimate_packets:,}\")\n",
    "print(\"Needed attack packets:\", f\"{needed_attack_packets:,}\")\n",
    "print(\"\")\n",
    "print(\"Command line:\",\"~/p4sec/ddosd-cpp/bin/trafg -n\", trafg_packets, \"-a\", attack_proportion, \n",
    "      \"\\\\\\n\", pcap_legitimate, \n",
    "      \"\\\\\\n\", pcap_attack, \n",
    "      \"\\\\\\n\", pcap_out)"
   ]
  },
  {
   "cell_type": "markdown",
   "metadata": {},
   "source": [
    "## Generating the Synthetic Workload"
   ]
  },
  {
   "cell_type": "markdown",
   "metadata": {},
   "source": [
    "    ilha@khronos-server:~/p4sec/ddosd-cpp/build$ ~/p4sec/ddosd-cpp/bin/trafg -n 131072000 -a 0.2 \\\n",
    "    >  ~/p4sec/ddosm-p4/datasets/caida/2016\\ anonymized/legitimate.pcap \\\n",
    "    >  ~/p4sec/ddosm-p4/datasets/caida/2007\\ ddostrace/ddostrace.20070804_141436.pcap \\\n",
    "    >  ~/p4sec/ddosm-p4/datasets/synthetic-ilha-ddos20-full/ddos20-full.pcap\n",
    "\n",
    "    1459947961456402\n",
    "    1459948064019593\n",
    "    \n",
    "    capinfos -m ~/p4sec/ddosm-p4/datasets/synthetic-ilha-ddos20-full/ddos20-full.pcap\n",
    "        File name:           /home/ilha/p4sec/ddosm-p4/datasets/synthetic-ilha-ddos20-full/ddos20-full.pcap\n",
    "        File type:           Wireshark/tcpdump/... - pcap\n",
    "        File encapsulation:  Ethernet\n",
    "        File timestamp precision:  microseconds (6)\n",
    "        Packet size limit:   file hdr: 1500 bytes\n",
    "        Number of packets:   196 M\n",
    "        File size:           13 GB\n",
    "        Data size:           10 GB\n",
    "        Capture duration:    348,322107 seconds\n",
    "        First packet time:   2016-04-06 10:03:00,000000\n",
    "        Last packet time:    2016-04-06 10:08:48,322107\n",
    "        Data byte rate:      29 MBps\n",
    "        Data bit rate:       234 Mbps\n",
    "        Average packet size: 52,00 bytes\n",
    "        Average packet rate: 564 kpackets/s\n",
    "        SHA256:              8d328537636f6237f61a7e2e32fc6ea8728cf0d67c58e08ae635ea1da2bb5697\n",
    "        RIPEMD160:           1f0254e652455d25eb54f223b3c0b033cad2955e\n",
    "        SHA1:                fd172e442b1c11ae7f68f06ab22ef6a8ab541241\n",
    "        Strict time order:   True\n",
    "        Number of interfaces in file: 1\n",
    "        Interface #0 info:\n",
    "                             Encapsulation = Ethernet (1 - ether)\n",
    "                             Capture length = 1500\n",
    "                             Time precision = microseconds (6)\n",
    "                             Time ticks per second = 1000000\n",
    "                             Number of stat entries = 0\n",
    "                             Number of packets = 196608000\n"
   ]
  },
  {
   "cell_type": "markdown",
   "metadata": {},
   "source": [
    "## Generating the \"notraining\" Workload\n",
    "    "
   ]
  },
  {
   "cell_type": "markdown",
   "metadata": {},
   "source": [
    "    ilha@khronos-server:~/p4sec/ddosm-p4/datasets/synthetic-ilha-ddos20-full$ editcap -r ddos20-full.pcap ddos20-notraining.pcap 65536001-196608000\n",
    "    \n",
    "    ilha@khronos-server:~/p4sec/ddosm-p4/datasets/synthetic-ilha-ddos20-full$ capinfos -m ddos20-notraining.pcap\n",
    "    \n",
    "    File name:           ddos20-notraining.pcap\n",
    "    File type:           Wireshark/... - pcapng\n",
    "    File encapsulation:  Ethernet\n",
    "    File timestamp precision:  microseconds (6)\n",
    "    Packet size limit:   file hdr: (not set)\n",
    "    Number of packets:   131 M\n",
    "    File size:           11 GB\n",
    "    Data size:           6.815 MB\n",
    "    Capture duration:    226,464885 seconds\n",
    "    First packet time:   2016-04-06 10:05:01,857222\n",
    "    Last packet time:    2016-04-06 10:08:48,322107\n",
    "    Data byte rate:      30 MBps\n",
    "    Data bit rate:       240 Mbps\n",
    "    Average packet size: 52,00 bytes\n",
    "    Average packet rate: 578 kpackets/s\n",
    "    SHA256:              2aa4eb8c284ba9607c0e9863e2005c486c286cbd505df9bfe8327ad18d332976\n",
    "    RIPEMD160:           9cc530e3f0ad44edbdfec17b7b0ddce6ac806cfc\n",
    "    SHA1:                e93c6c9df4f3e45b8b400b7ce8923b701c4d32f5\n",
    "    Strict time order:   True\n",
    "    Capture application: Editcap 2.6.10\n",
    "    Number of interfaces in file: 1\n",
    "    Interface #0 info:\n",
    "                         Encapsulation = Ethernet (1 - ether)\n",
    "                         Capture length = 1500\n",
    "                         Time precision = microseconds (6)\n",
    "                         Time ticks per second = 1000000\n",
    "                         Number of stat entries = 0\n",
    "                         Number of packets = 131072000\n",
    "    "
   ]
  }
 ],
 "metadata": {
  "kernelspec": {
   "display_name": "Python 3",
   "language": "python",
   "name": "python3"
  },
  "language_info": {
   "codemirror_mode": {
    "name": "ipython",
    "version": 3
   },
   "file_extension": ".py",
   "mimetype": "text/x-python",
   "name": "python",
   "nbconvert_exporter": "python",
   "pygments_lexer": "ipython3",
   "version": "3.7.3"
  }
 },
 "nbformat": 4,
 "nbformat_minor": 4
}
