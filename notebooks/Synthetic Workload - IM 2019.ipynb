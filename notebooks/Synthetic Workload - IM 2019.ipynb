{
 "cells": [
  {
   "cell_type": "markdown",
   "metadata": {},
   "source": [
    "# Reverse-Engineering the Synthetic Workload\n",
    "\n",
    "Libpcap File Format: https://wiki.wireshark.org/Development/LibpcapFileFormat\n",
    "\n",
    "\n",
    "    Global header: 24 bytes\n",
    "    Record header: 16 bytes\n",
    "\n",
    "Analyzing a trafg-generated workload.\n",
    "\n",
    "    File: datasets/aclapolli/ddos5.pcap\n",
    "\n",
    "    Pcap record size:           68      bytes\n",
    "        Record header:          16      \n",
    "        Capture data:           52\n",
    "            Ethernet:               14\n",
    "            IPv4:                   20\n",
    "            Custom payload:         17\n",
    "                Timestamp               16 [Offset: 0x22-0x31]\n",
    "                Attack flag             01 [Offset: 0x32]\n",
    "            Ethernet:               01\n",
    "\n",
    "    Total size:     13.369.344.024 bytes\n",
    "    Global header:              24 bytes  \n",
    "    Record area:    13.369.344.000 bytes\n",
    "    # of records:      196.608.000 packets\n",
    "\n",
    "    Capture Start:  1459947780000000\tWednesday, 06-Apr-16 13:03:00.000000 UTC\n",
    "    Attack Start:   1459947871852575\tWednesday, 06-Apr-16 13:04:31.852575 UTC\n",
    "    Attack End:     1459947931138652\tWednesday, 06-Apr-16 13:05:31.138652 UTC\n",
    "    Capture End:    1459947962808079\tWednesday, 06-Apr-16 13:06:02.808079 UTC\n",
    "\n",
    "    First Packet:\n",
    "\n",
    "        \"1\",\t\t\t\"2016-04-06 13:03:00.000000\",\"161.69.48.219\",\"161.69.45.5\",\"IPv4\",\"52\",\"Unknown (253)\"\n",
    "\n",
    "    Last Packet\n",
    "\n",
    "        \"196608000\",\t\"2016-04-06 13:06:02.808079\",\"5.255.217.159\",\"66.56.90.148\",\"IPv4\",\"52\",\"Unknown (253)\"\n",
    "\n",
    "    Legitimate Traces: \n",
    "        \n",
    "        File                                                Packets\n",
    "        equinix-chicago.dirA.20160406-130300.UTC.anon.pcap  32386894\n",
    "        equinix-chicago.dirA.20160406-130400.UTC.anon.pcap  30325344\n",
    "        equinix-chicago.dirA.20160406-130500.UTC.anon.pcap  32133986\n",
    "        equinix-chicago.dirA.20160406-130600.UTC.anon.pcap  29793140\n",
    "        equinix-chicago.dirA.20160406-130700.UTC.anon.pcap  28041980\n",
    "        equinix-chicago.dirA.20160406-130800.UTC.anon.pcap  31989418\n",
    "        equinix-chicago.dirA.20160406-130900.UTC.anon.pcap  30598765\n",
    "\n",
    "    Attack Traces:\n",
    "\n",
    "        File                                                Packets\n",
    "        ddostrace.20070804_141436.pcap                      ~25M\n",
    "\n",
    "    Trafg Parameters:\n",
    "\n",
    "        Since trafg outputs 1.5 * packet_count = 196.608.000 packets, \n",
    "        we know that packet_count = 196.608.000 / 1.5 = 131.072.000 = 2**7 * 2**10 * 1000 .\n",
    "    \n",
    "Splitting the workload in 24 volumes with 8.192.000 packets each. \n",
    "\n",
    "    Phase       Packet Count    Start           End                Volume  Offset\n",
    "    Total        196.608.000                                       24/24   00..23        \n",
    "    Training:     65.536.000    13:03:00.000000 13:04:00.087231     8/24   00..07\n",
    "    Detection 1:  32.768.000    13:04:00.087231 13:04:31.852544     4/24   08..11\n",
    "    Detection 2:  65.536.000    13:04:31.852545 13:05:31.138658     8/24   12..19\n",
    "    Detection 3:  32.768.000    13:05:31.138659 13:06:02.808079     4/24   20..23\n",
    "\n",
    "    Files: in datasets/aclapolli/ddos5_split/*.pcap\n",
    "\n",
    "Window counts using m=2^18 packets per window.\n",
    "\n",
    "    Phase       Window Count    Start           End                Volume  Offset\n",
    "    Total                750                                       24/24   00..23        \n",
    "    Training:            250    13:03:00.000000 13:04:00.087231     8/24   00..07\n",
    "    Detection 1:         125    13:04:00.087231 13:04:31.852544     4/24   08..11\n",
    "    Detection 2:         250    13:04:31.852545 13:05:31.138658     8/24   12..19\n",
    "    Detection 3:         125    13:05:31.138659 13:06:02.808079     4/24   20..23\n"
   ]
  },
  {
   "cell_type": "markdown",
   "metadata": {},
   "source": [
    "## Calculating PCAP sizes for given values of m"
   ]
  },
  {
   "cell_type": "code",
   "execution_count": 1,
   "metadata": {},
   "outputs": [
    {
     "name": "stdout",
     "output_type": "stream",
     "text": [
      "log2m: 14 OWs: 1024 PCAP Size (bytes): 102424\n",
      "log2m: 16 OWs: 256 PCAP Size (bytes): 25624\n",
      "log2m: 18 OWs: 64 PCAP Size (bytes): 6424\n"
     ]
    }
   ],
   "source": [
    "for log2m in (14, 16, 18):\n",
    "    total_ows = 2**(24-log2m)\n",
    "    pcap_size = 24 + 100 * total_ows\n",
    "    print(\"log2m:\", log2m, \"OWs:\", total_ows, \"PCAP Size (bytes):\", pcap_size)"
   ]
  },
  {
   "cell_type": "code",
   "execution_count": null,
   "metadata": {},
   "outputs": [],
   "source": []
  }
 ],
 "metadata": {
  "kernelspec": {
   "display_name": "Python 3",
   "language": "python",
   "name": "python3"
  },
  "language_info": {
   "codemirror_mode": {
    "name": "ipython",
    "version": 3
   },
   "file_extension": ".py",
   "mimetype": "text/x-python",
   "name": "python",
   "nbconvert_exporter": "python",
   "pygments_lexer": "ipython3",
   "version": "3.7.3"
  }
 },
 "nbformat": 4,
 "nbformat_minor": 4
}
