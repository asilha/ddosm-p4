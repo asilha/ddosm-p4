{
 "cells": [
  {
   "cell_type": "code",
   "execution_count": 8,
   "metadata": {},
   "outputs": [],
   "source": [
    "!putty -load \"VM Lab P4\""
   ]
  },
  {
   "cell_type": "code",
   "execution_count": 9,
   "metadata": {},
   "outputs": [
    {
     "name": "stdout",
     "output_type": "stream",
     "text": [
      "2019-06-13-153659_1920x975_scrot.png\n",
      "2019-06-22-163417_1920x950_scrot.png\n",
      "2019-09-10-124903_1920x975_scrot.png\n",
      "asilha-p4tutorials\n",
      "Desktop\n",
      "Documents\n",
      "Downloads\n",
      "Music\n",
      "p4org\n",
      "p4sec\n",
      "Pictures\n",
      "Public\n",
      "Templates\n",
      "tutorials\n",
      "Videos\n"
     ]
    }
   ],
   "source": [
    "!plink -load \"VM Lab P4\" -batch ls"
   ]
  }
 ],
 "metadata": {
  "kernelspec": {
   "display_name": "Python 3",
   "language": "python",
   "name": "python3"
  },
  "language_info": {
   "codemirror_mode": {
    "name": "ipython",
    "version": 3
   },
   "file_extension": ".py",
   "mimetype": "text/x-python",
   "name": "python",
   "nbconvert_exporter": "python",
   "pygments_lexer": "ipython3",
   "version": "3.7.3"
  }
 },
 "nbformat": 4,
 "nbformat_minor": 2
}
